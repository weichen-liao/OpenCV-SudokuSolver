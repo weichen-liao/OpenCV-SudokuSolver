{
 "cells": [
  {
   "cell_type": "code",
   "execution_count": 1,
   "metadata": {},
   "outputs": [],
   "source": [
    "!export GOOGLE_APPLICATION_CREDENTIALS=\"/Users/liaoweichen/Desktop/epita class/AI in Image and Video Processing/GoogleCloud/Sudoku-Solver-b777a46d4ae0.json\""
   ]
  },
  {
   "cell_type": "code",
   "execution_count": 2,
   "metadata": {},
   "outputs": [
    {
     "data": {
      "text/plain": [
       "<matplotlib.image.AxesImage at 0x7f9c256e68e0>"
      ]
     },
     "execution_count": 2,
     "metadata": {},
     "output_type": "execute_result"
    },
    {
     "data": {
      "image/png": "[encoded data removed]",
      "text/plain": [
       "<Figure size 432x288 with 1 Axes>"
      ]
     },
     "metadata": {
      "needs_background": "light"
     },
     "output_type": "display_data"
    }
   ],
   "source": [
    "from google.cloud import vision\n",
    "import io\n",
    "from PIL import Image\n",
    "import matplotlib.pyplot as plt\n",
    "from matplotlib.patches import Rectangle\n",
    "import cv2\n",
    "from copy import deepcopy\n",
    "import glob\n",
    "import random\n",
    "from functions import detect_text, add_rect_pil, modify_screenshot_new\n",
    "import numpy as np\n",
    "\n",
    "# IMG_PATH = 'sudoku_imgs/sudoku2.png'\n",
    "# IMG_PATH = 'sudoku_imgs/sudoku3.png'\n",
    "# IMG_PATH = 'sudoku_imgs/sudoku4.jpg'\n",
    "IMG_PATH = 'sudoku_imgs/sudoku5.png'\n",
    "image = Image.open(IMG_PATH)\n",
    "fig, ax = plt.subplots()\n",
    "ax.imshow(image)"
   ]
  },
  {
   "cell_type": "code",
   "execution_count": 3,
   "metadata": {},
   "outputs": [
    {
     "name": "stdout",
     "output_type": "stream",
     "text": [
      "<class 'google.cloud.vision_v1.types.image_annotator.Image'>\n",
      "[[(42, 35), 575, 570], ['9', (42, 36), 73, 39], ['1', (134, 39), 11, 33], ['2', (330, 38), 21, 33], ['4', (528, 40), 23, 31], ['7', (196, 106), 19, 31], ['7', (440, 166), 87, 39], ['9', (530, 171), 21, 33], ['2', (64, 240), 21, 31], ['6', (196, 239), 21, 33], ['5', (396, 239), 19, 33], ['3', (440, 236), 43, 40], ['7', (64, 306), 19, 31], ['4', (196, 306), 21, 31], ['2', (262.5, 300), 22.5, 39], ['1', (409, 302), 25, 42], ['9', (462.0, 302), 22.0, 42], ['5', (596, 304), 19, 33], ['3', (196, 371), 19, 33], ['4', (263, 371), 22, 33], ['8', (465, 371), 18, 32], ['2', (595, 371), 22, 33], ['4', (130, 438), 21, 33], ['2', (196, 439), 21, 33], ['1', (468, 506), 13, 31], ['6', (130.0, 570), 10.5, 33], ['8', (330, 570), 19, 33], ['5', (504, 566), 63, 39], ['9', (596, 571), 21, 31]]\n",
      "gap_x: 68.62139917695474 gap_y: 68.02469135802468\n",
      "Scanned mat:\n",
      "[[9 1 0 0 2 0 0 4 0]\n",
      " [0 0 7 0 0 0 0 0 0]\n",
      " [0 0 0 0 0 0 7 9 0]\n",
      " [2 0 6 0 0 5 3 0 0]\n",
      " [7 0 4 2 0 1 9 0 5]\n",
      " [0 0 3 4 0 0 8 0 2]\n",
      " [0 4 2 0 0 0 0 0 0]\n",
      " [0 0 0 0 0 0 1 0 0]\n",
      " [0 6 0 0 8 0 0 5 9]]\n",
      "Solved mat\n",
      "[[9 1 8 3 2 7 5 4 6]\n",
      " [6 3 7 9 5 4 2 8 1]\n",
      " [4 2 5 1 6 8 7 9 3]\n",
      " [2 9 6 8 7 5 3 1 4]\n",
      " [7 8 4 2 3 1 9 6 5]\n",
      " [1 5 3 4 9 6 8 7 2]\n",
      " [8 4 2 5 1 9 6 3 7]\n",
      " [5 7 9 6 4 3 1 2 8]\n",
      " [3 6 1 7 8 2 4 5 9]]\n"
     ]
    }
   ],
   "source": [
    "predicts = detect_text(IMG_PATH)\n",
    "print(predicts)\n",
    "image = modify_screenshot_new(predicts, path=IMG_PATH)\n",
    "image.show()"
   ]
  },
  {
   "cell_type": "code",
   "execution_count": null,
   "metadata": {},
   "outputs": [],
   "source": []
  },
  {
   "cell_type": "code",
   "execution_count": null,
   "metadata": {},
   "outputs": [],
   "source": []
  },
  {
   "cell_type": "code",
   "execution_count": null,
   "metadata": {},
   "outputs": [],
   "source": []
  },
  {
   "cell_type": "code",
   "execution_count": null,
   "metadata": {},
   "outputs": [],
   "source": []
  },
  {
   "cell_type": "code",
   "execution_count": null,
   "metadata": {},
   "outputs": [],
   "source": []
  },
  {
   "cell_type": "code",
   "execution_count": null,
   "metadata": {},
   "outputs": [],
   "source": []
  },
  {
   "cell_type": "code",
   "execution_count": null,
   "metadata": {},
   "outputs": [],
   "source": []
  },
  {
   "cell_type": "code",
   "execution_count": null,
   "metadata": {},
   "outputs": [],
   "source": []
  },
  {
   "cell_type": "code",
   "execution_count": null,
   "metadata": {},
   "outputs": [],
   "source": []
  }
 ],
 "metadata": {
  "kernelspec": {
   "display_name": "Python 3",
   "language": "python",
   "name": "python3"
  },
  "language_info": {
   "codemirror_mode": {
    "name": "ipython",
    "version": 3
   },
   "file_extension": ".py",
   "mimetype": "text/x-python",
   "name": "python",
   "nbconvert_exporter": "python",
   "pygments_lexer": "ipython3",
   "version": "3.8.1"
  }
 },
 "nbformat": 4,
 "nbformat_minor": 4
}
